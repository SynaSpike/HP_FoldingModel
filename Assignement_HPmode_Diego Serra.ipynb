{
 "cells": [
  {
   "cell_type": "markdown",
   "id": "994a96a5",
   "metadata": {},
   "source": [
    "# <center>Optimal Protein Folding in the HP Model !</center>          \n",
    "## <center>Diego Serra</center>\n",
    "\n",
    "    "
   ]
  },
  {
   "cell_type": "markdown",
   "id": "4969dc7e",
   "metadata": {},
   "source": [
    "# BestFolds Algorithm"
   ]
  },
  {
   "cell_type": "markdown",
   "id": "6a48abff",
   "metadata": {},
   "source": [
    "### Folding pathways generation"
   ]
  },
  {
   "cell_type": "markdown",
   "id": "1647356f",
   "metadata": {},
   "source": [
    "Therefore, I defined a function \"Walking\" that recursively generates all the non-crossing pathways and store them in a cache. Part of the code has been inspired with SAW on 2D square lattice done by \"semenovandrew\" on github."
   ]
  },
  {
   "cell_type": "code",
   "execution_count": 1,
   "id": "4847e461",
   "metadata": {},
   "outputs": [],
   "source": [
    "steps = [(0,1), (0,-1), (1,0), (-1,0)] # Different possible moove.\n",
    "\n",
    "def Walking(pathway, length, cache):\n",
    "    \"\"\" The function will generate all the non-crossing possible paths and store them in a cache. Previously an empty cache has to be initiated.\n",
    "        :pathway: list of tuples (First two positions of the path) the pathing start from (0,1) to avoid duplicates due to rotation of the structure.\n",
    "        :lenght: int. lenght of the protein sequence.\n",
    "        :cache: store all the pathways after recursion.\n",
    "    \"\"\"\n",
    "    if length -2 == 0: # Base call, 2 is substracted for the first two residues that are constant /!\\ Note that it's important to pass the two first positions in parameter. \n",
    "        cache.append(pathway)\n",
    "    \n",
    "    else:    \n",
    "        for x,y in steps:\n",
    "            previous_x, previous_y = pathway[-1]\n",
    "            new_pathway = pathway.copy()\n",
    "            following_position = (previous_x + x, previous_y + y)\n",
    "            if following_position not in new_pathway: # Avoid crossing pathways\n",
    "                new_pathway.append(following_position)\n",
    "                Walking(new_pathway, length - 1, cache)"
   ]
  },
  {
   "cell_type": "markdown",
   "id": "6334a523",
   "metadata": {},
   "source": [
    "### H positions finding\n",
    "<p>Then, based on the work Alantha Newman. We learn that boundings between hydrophobic residues can only occur between an even positioned H and an oddly positioned H, except if they are in contact (following in the sequence). Therefore, I decided to create a function that return the index of the the evenly and oddly positioned H separately.</p>"
   ]
  },
  {
   "cell_type": "code",
   "execution_count": 2,
   "id": "0f2c2cd4",
   "metadata": {},
   "outputs": [],
   "source": [
    "def HydrogenPosition(sequence):\n",
    "    \"\"\"The function returns all the even and odd hydrophobic residues positions respectively. Based on the assumption made in \"Alantha Newman. 2002. A new algorithm for protein folding in the HP model. \n",
    "    In Proceedings of the thirteenth annual ACM-SIAM symposium on Discrete algorithms (SODA '02). Society for Industrial and Applied Mathematics, USA, 876–884.\". \n",
    "    \":sequence: string of protein sequence of \"H\" and \"P\".\n",
    "     :return: list of even and odd hydrophobic residues positions.\n",
    "    \"\"\"\n",
    "    all_hpos = []\n",
    "    sequence_list = list(sequence)\n",
    "    for amino_acids in range(len(sequence_list)):\n",
    "        if sequence_list[amino_acids] == 'H':\n",
    "            all_hpos.append(amino_acids)\n",
    "    \n",
    "    even_hpos = [el for el in all_hpos if el%2 == 0]\n",
    "    odd_hpos = [el for el in all_hpos if el%2 == 1]\n",
    "\n",
    "    return even_hpos, odd_hpos"
   ]
  },
  {
   "cell_type": "markdown",
   "id": "395eeeca",
   "metadata": {},
   "source": [
    "### Scoring\n",
    "<P>The next step was to create a function that will score the H-H contacts on a given path. Therefore, I based my function on the idea that if the index of the path are not following, and their (row,col) positions are differing by only one unit, this means that the residues are bounded.</p> "
   ]
  },
  {
   "cell_type": "code",
   "execution_count": 3,
   "id": "9f8c2a81",
   "metadata": {},
   "outputs": [],
   "source": [
    "def Scoring(even_hpos, odd_hpos, path):\n",
    "    \"\"\"This function is used to calculate the folding score of the protein.\n",
    "       :even_hpos: list of the even index of hydrophobic residues.\n",
    "       :odd_hpos: list of the odd index of hydrophobic residues.\n",
    "       :path: list of tuple of the folding pathway.\n",
    "       :return: a score integer of folding for the given pathway in parameters and a list of the bounded residues two by two.\n",
    "    \"\"\"\n",
    "    \n",
    "    score = 0\n",
    "    bounded_residues = []\n",
    "    \n",
    "    for even in even_hpos:\n",
    "        \n",
    "        for odd in odd_hpos:\n",
    "            \n",
    "            if abs(even-odd) != 1: # Do not follow\n",
    "                \n",
    "                col_diff = abs(path[even][1] - path[odd][1])\n",
    "                row_diff = abs(path[even][0] - path[odd][0])\n",
    "                \n",
    "                if col_diff + row_diff == 1:\n",
    "                    score += 1\n",
    "                    bounded_residues.append([list(path[even]), list(path[odd])])\n",
    "        \n",
    "    return int(score), bounded_residues"
   ]
  },
  {
   "cell_type": "markdown",
   "id": "d7fdb896",
   "metadata": {},
   "source": [
    "### Folding"
   ]
  },
  {
   "cell_type": "markdown",
   "id": "4eeaad8b",
   "metadata": {},
   "source": [
    "The folding function will basically return the best folding pathway generated from the walking function.  "
   ]
  },
  {
   "cell_type": "markdown",
   "id": "e9dd2579",
   "metadata": {},
   "source": [
    "<div class=\"alert alert-block alert-info\">\n",
    "    <b> Note:</b> A minimum of 4 residues must be given, otherwise an error message will be raised !\n",
    "</div>"
   ]
  },
  {
   "cell_type": "code",
   "execution_count": 4,
   "id": "9456b353",
   "metadata": {},
   "outputs": [],
   "source": [
    "def Folding(sequence):\n",
    "    \"\"\"This function is used to return the best folding score and the best pathway and the list of the bounding residues associated.\n",
    "       :sequence: string of protein sequence of \"H\" and \"P\".\n",
    "       :return: the best folding score and its associated pathway.\n",
    "    \"\"\"\n",
    "    \n",
    "    if len(sequence) < 4:\n",
    "        raise TypeError(\"There are not enough amino-acids to form an optimal folding ! Minimum 4 residues are needed... \")\n",
    "    \n",
    "    steps = [(0,1), (0,-1), (1,0), (-1,0)]\n",
    "    cache = []\n",
    "    Walking([(0,0), (0,1)], len(sequence), cache)\n",
    "    \n",
    "    \n",
    "    even_hpos, odd_hpos = HydrogenPosition(sequence)\n",
    "    \n",
    "    best_score = 0\n",
    "    best_path = []\n",
    "    bounded_residues = []\n",
    "    for path in cache:\n",
    "        score, b_res = Scoring(even_hpos, odd_hpos, path)\n",
    "        if score > best_score:\n",
    "            best_score = score\n",
    "            best_path = path\n",
    "            bounded_residues = b_res\n",
    "    return best_score, best_path, bounded_residues"
   ]
  },
  {
   "cell_type": "markdown",
   "id": "b39d53ef",
   "metadata": {},
   "source": [
    "### Shifting of the sequence"
   ]
  },
  {
   "cell_type": "markdown",
   "id": "9d9078de",
   "metadata": {},
   "source": [
    "This function is used to translate horizontally and vertically all the positions to only have positive values. These value will be easier to put in a matrix for representation of the results."
   ]
  },
  {
   "cell_type": "code",
   "execution_count": 5,
   "id": "f12e0ec4",
   "metadata": {},
   "outputs": [],
   "source": [
    "def ShiftSequence(pathway, bounded_residues): \n",
    "    \"\"\"The function is used to shift vertically and horizontally to avoid any negative values in the pathway. The pathway keeps \n",
    "       unchanged.\n",
    "       :pathway: list of tuples of residues position.\n",
    "       :bounded_residues: 2-levels list of the position of the residues that are binding (i.e., [[[rowi,coli],[rowj,colj]]]).\n",
    "    \"\"\"\n",
    "    lateral_shifted_value = min(pathway)[0] # minimal value for the rows.\n",
    "    vertical_shifted_value = min(pathway, key=lambda x:x[1])[1] # minimal value for the rows.\n",
    "    \n",
    "    pathway_list = []\n",
    "\n",
    "    for el in pathway:\n",
    "        pathway_list.append(list(el))\n",
    "    \n",
    "        \n",
    "    row_shift = abs(0-lateral_shifted_value)\n",
    "    col_shift = abs(0-vertical_shifted_value)\n",
    "    shifted_pathway_list = []\n",
    "    shifted_bounded_residues = []\n",
    "    \n",
    "    # Shifted positions and boundings generation \n",
    "    \n",
    "    if lateral_shifted_value >= 0 and vertical_shifted_value >= 0 : # if the minimal values in rows and col are positive (then the left-bottom shift)\n",
    "        for x,y in pathway_list:\n",
    "            shifted_pathway_list.append([x - row_shift, y - col_shift])\n",
    "    \n",
    "        for bounds in bounded_residues:\n",
    "            temp_bound = []\n",
    "            for x,y in bounds:\n",
    "                temp_bound.append([x-row_shift, y-col_shift])\n",
    "            shifted_bounded_residues.append([temp_bound])\n",
    "                \n",
    "    elif lateral_shifted_value <= 0 and vertical_shifted_value <= 0:\n",
    "        for x,y in pathway_list:\n",
    "            shifted_pathway_list.append([x+row_shift, y+col_shift])\n",
    "        \n",
    "        for bounds in bounded_residues:\n",
    "            temp_bound = []\n",
    "            for x,y in bounds:\n",
    "                temp_bound.append([x+row_shift, y+col_shift])\n",
    "            shifted_bounded_residues.append([temp_bound])\n",
    "            \n",
    "\n",
    "    elif lateral_shifted_value >= 0 and vertical_shifted_value <= 0:\n",
    "        for x,y in pathway_list:\n",
    "            shifted_pathway_list.append([x-row_shift, y+col_shift])\n",
    "            \n",
    "        for bounds in bounded_residues:\n",
    "            temp_bound = []\n",
    "            for x,y in bounds:\n",
    "                temp_bound.append([x-row_shift, y+col_shift])\n",
    "            shifted_bounded_residues.append([temp_bound])\n",
    "            \n",
    "            \n",
    "    elif lateral_shifted_value < 0 and vertical_shifted_value > 0:\n",
    "        for x,y in pathway_list:\n",
    "            shifted_pathway_list.append([x+row_shift, y-col_shift])\n",
    "        \n",
    "        for bounds in bounded_residues:\n",
    "            temp_bound = []\n",
    "            for x,y in bounds:\n",
    "                temp_bound.append([x+row_shift, y-col_shift])\n",
    "            shifted_bounded_residues.append([temp_bound])\n",
    "    \n",
    "\n",
    "        \n",
    "    return  shifted_pathway_list, shifted_bounded_residues\n",
    "    \n",
    "    "
   ]
  },
  {
   "cell_type": "markdown",
   "id": "16a64976",
   "metadata": {},
   "source": [
    "### Matrix generation"
   ]
  },
  {
   "cell_type": "markdown",
   "id": "45196125",
   "metadata": {},
   "source": [
    "This function will be used to generate the matrix and the matricial position of the residues + their contacts and the boundings. "
   ]
  },
  {
   "cell_type": "code",
   "execution_count": 6,
   "id": "e12f3706",
   "metadata": {},
   "outputs": [],
   "source": [
    "def CreateMatrix(shifted_pathway_list ,bounded_residues):\n",
    "    \"\"\"The function is used to generate a 0 matrix of correct size to let a space between each residues.\n",
    "       Moreover, the function will also generate the matricial positions of all needed elements for representation.\n",
    "       :shifted_pathway: list of each [row,col] positions of the pathway.\n",
    "       :bounded_residues: 2-levels list of the position of the residues that are binding (i.e., [[[rowi,coli],[rowj,colj]]].\n",
    "       :return: a 0-filled matrix.\n",
    "                list of matricial position of residues.\n",
    "                list of matricial contact positions.\n",
    "                list of matricial bounding positions (horizontal and vertical boundings).\n",
    "                   \n",
    "    \"\"\"\n",
    "    \n",
    "    matrice_shifted_pathway = []\n",
    "    contact_positions = []\n",
    "\n",
    "    bounded_v = [] # The positions of the vertical boundings\n",
    "    bounded_h =[] # The positions of the horizontal boundings\n",
    "    \n",
    "    for i in range(len(shifted_pathway_list)): # Residues positions\n",
    "        matrice_shifted_pathway.append([shifted_pathway_list[i][0] * 2, shifted_pathway_list[i][1]*2])\n",
    "    \n",
    "    # I take the max value to avoid having negative value in the contact positions\n",
    "\n",
    "    for i in range(len(shifted_pathway_list)-1): # Contact (*) positions, starting at index 1 because (0,0) must not be affected\n",
    "        if shifted_pathway_list[i][0] != shifted_pathway_list[i+1][0]:# If the movement is a row move then, the contact pos will affect only the row and not the col\n",
    "            contact_positions.append([max(shifted_pathway_list[i][0], shifted_pathway_list[i+1][0])*2-1, shifted_pathway_list[i][1]*2])\n",
    "        elif shifted_pathway_list[i][1] != shifted_pathway_list[i+1][1]:# If the movement is a col move then, the contact pos will affect only the col and not the col\n",
    "            contact_positions.append([shifted_pathway_list[i][0]*2, max(shifted_pathway_list[i][1], shifted_pathway_list[i+1][1])*2-1])\n",
    "    \n",
    "    # Generation of boundings positions\n",
    "    \n",
    "    for bound in bounded_residues:\n",
    "        \n",
    "        temp_bound = []\n",
    "        for el in bound:\n",
    "            \n",
    "            for x,y in el:\n",
    "\n",
    "                temp_bound.append([x*2,y*2])\n",
    "\n",
    "            if temp_bound[0][0] == temp_bound[1][0]: # It means that it's an horizontal bound \"-\". \n",
    "                val = temp_bound[0][1] + temp_bound[1][1] # The bound is between the residues\n",
    "                temp_bound =[temp_bound[0][0], int(val/2)]\n",
    "                bounded_h.append(temp_bound)\n",
    "\n",
    "            elif temp_bound[1][0] == temp_bound[1][0]: # It means that it's an vertical bound \"|\".\n",
    "                val = temp_bound[0][0] + temp_bound[1][0]\n",
    "                temp_bound = [int(val/2),temp_bound[0][1]]\n",
    "                bounded_v.append(temp_bound)   \n",
    "        \n",
    "        \n",
    "    # Generation of an empty matrix filled with 0 \n",
    "    \n",
    "    matrice_row = max(matrice_shifted_pathway, key= lambda x:x[0])[0] +1\n",
    "    matrice_col = max(matrice_shifted_pathway, key= lambda x:x[1])[1] +1\n",
    "    \n",
    "    matrice = [[0 for i in range(matrice_col)]for j in range(matrice_row)]\n",
    "    \n",
    "    return matrice, matrice_shifted_pathway, contact_positions, bounded_h, bounded_v"
   ]
  },
  {
   "cell_type": "markdown",
   "id": "5c619464",
   "metadata": {},
   "source": [
    "### Placement of the elements on the matrix"
   ]
  },
  {
   "cell_type": "markdown",
   "id": "4dacb314",
   "metadata": {},
   "source": [
    "This step is used to place all elements in the matrix for further representation.\n",
    "-  Contacts  = <b> * </b>\n",
    "-  Horizontal bound = <b> - </b>\n",
    "-  Vertical bound = <b> | </b>"
   ]
  },
  {
   "cell_type": "code",
   "execution_count": 7,
   "id": "5bc7f3be",
   "metadata": {},
   "outputs": [],
   "source": [
    "def ResiduesBoundingPlacement(sequence, matrice, matrice_shifted_pathway, contact_positions, bounded_h, bounded_v):\n",
    "    \"\"\"The function places all the elements in a matrix.\n",
    "       :sequence: string of protein sequence of \"H\" and \"P\".\n",
    "       :matrice: a 0-filled matrix.\n",
    "       :matrice_shifted_pathway: list of matricial position of residues.\n",
    "       :contact_positions:  list of matricial contact positions.\n",
    "       :bounded_h:list of matricial bounding horizontal positions.\n",
    "       :bounded_v:list of matricial bounding vertical positions.\n",
    "       :return: the final completed matrix.\n",
    "    \"\"\"\n",
    "    \n",
    "    sequence_list = list(sequence)\n",
    "    matrice_shifted_pathway_row = []\n",
    "    matrice_shifted_pathway_col = []\n",
    "    contact_positions_row =[]\n",
    "    contact_positions_col = []\n",
    "    \n",
    "    for x,y in matrice_shifted_pathway: # Crée 2 listes avec les coordonnées dans les ordres correspondants --> pour zip\n",
    "        matrice_shifted_pathway_row.append(x)\n",
    "        matrice_shifted_pathway_col.append(y)\n",
    "        \n",
    "    \n",
    "    for x,y,res in zip(matrice_shifted_pathway_row, matrice_shifted_pathway_col, sequence_list): # adding the residues\n",
    "        matrice[x][y] = res\n",
    "    for x,y in contact_positions:\n",
    "        matrice[x][y] = '*'\n",
    "    for x,y in bounded_h:\n",
    "        matrice[x][y] = '-'\n",
    "    for x,y in bounded_v:\n",
    "        matrice[x][y] = '|'\n",
    "    \n",
    "    \n",
    "    return matrice"
   ]
  },
  {
   "cell_type": "markdown",
   "id": "6b8179f4",
   "metadata": {},
   "source": [
    "### Representation of the final result"
   ]
  },
  {
   "cell_type": "markdown",
   "id": "87f0697d",
   "metadata": {},
   "source": [
    "This small function will be used to print out the result in the console"
   ]
  },
  {
   "cell_type": "code",
   "execution_count": 8,
   "id": "11227414",
   "metadata": {},
   "outputs": [],
   "source": [
    "def PrintMatrix(matrix):\n",
    "    \"\"\"The function is used to loop over the matrix and print out the matrix.\n",
    "       :matrix: matrix with all the element positionned.\n",
    "    \"\"\"\n",
    "    \n",
    "    for row in matrix:\n",
    "        for col in row:\n",
    "            if col == 0:\n",
    "                print(\" \", end=\"\")\n",
    "            else:\n",
    "                print(col, end='')\n",
    "        print()"
   ]
  },
  {
   "cell_type": "markdown",
   "id": "b16aca68",
   "metadata": {},
   "source": [
    "### Final BestFolds function"
   ]
  },
  {
   "cell_type": "code",
   "execution_count": 9,
   "id": "54bfc4b2",
   "metadata": {},
   "outputs": [],
   "source": [
    "def BestFolds(sequence): \n",
    "    \"\"\"Final function \n",
    "    \"\"\"\n",
    "    \n",
    "    # Generate one of the best folding score, best_path, list of bounded_residues.\n",
    "    best_score, best_path, bounded_residues = Folding(sequence)\n",
    "    \n",
    "    # Shift sequence to keep only positive positions.\n",
    "    shifted_pathway_list, shifted_bounded_residues= ShiftSequence(best_path, bounded_residues)\n",
    "    \n",
    "    # Generate the empty matrix and the list of matricial positions.\n",
    "    matrix, matrice_shifted_pathway, contact_positions, bounded_h, bounded_v = CreateMatrix(shifted_pathway_list, shifted_bounded_residues)\n",
    "\n",
    "    \n",
    "    # Places the residues, the contacts and the boundings into the matrix\n",
    "    \n",
    "    final_matrix = ResiduesBoundingPlacement(sequence, matrix, matrice_shifted_pathway, contact_positions, bounded_h, bounded_v)\n",
    "    \n",
    "    # Display the folding\n",
    "    print(\"Your best score is:\", best_score)\n",
    "    print(\"\")\n",
    "    PrintMatrix(final_matrix)\n",
    "    "
   ]
  },
  {
   "cell_type": "markdown",
   "id": "f7509f13",
   "metadata": {},
   "source": [
    "### Solutions"
   ]
  },
  {
   "cell_type": "markdown",
   "id": "62a7c643",
   "metadata": {},
   "source": [
    "Following are the solutions asked for the project."
   ]
  },
  {
   "cell_type": "code",
   "execution_count": 16,
   "id": "68e21148",
   "metadata": {
    "scrolled": true
   },
   "outputs": [
    {
     "name": "stdout",
     "output_type": "stream",
     "text": [
      "Your best score is: 5\n",
      "\n",
      "  H*P  \n",
      "  | *  \n",
      "P*H-H*H\n",
      "* | | *\n",
      "P*H-H*H\n",
      "  * *  \n",
      "  P*P  \n"
     ]
    }
   ],
   "source": [
    "BestFolds(\"HPHHHHPPHPPH\")"
   ]
  },
  {
   "cell_type": "code",
   "execution_count": 17,
   "id": "171d403d",
   "metadata": {},
   "outputs": [
    {
     "name": "stdout",
     "output_type": "stream",
     "text": [
      "Your best score is: 2\n",
      "\n",
      "P*H-H*P\n",
      "  * | *\n",
      "  P*H*P\n"
     ]
    }
   ],
   "source": [
    "BestFolds(\"HPPHPHP\")"
   ]
  },
  {
   "cell_type": "code",
   "execution_count": 18,
   "id": "15e035f2",
   "metadata": {},
   "outputs": [
    {
     "name": "stdout",
     "output_type": "stream",
     "text": [
      "Your best score is: 4\n",
      "\n",
      "H*H*H\n",
      "| | *\n",
      "H*H*H\n",
      "* | |\n",
      "H*H*H\n"
     ]
    }
   ],
   "source": [
    "BestFolds(\"HHHHHHHHH\")"
   ]
  },
  {
   "cell_type": "code",
   "execution_count": 19,
   "id": "5631b7ea",
   "metadata": {},
   "outputs": [
    {
     "name": "stdout",
     "output_type": "stream",
     "text": [
      "Your best score is: 8\n",
      "\n",
      "    H*P  \n",
      "    | *  \n",
      "P*H*H*H  \n",
      "* | | |  \n",
      "P*H-H*H*H\n",
      "  * | | *\n",
      "  P*H-H*P\n",
      "    * *  \n",
      "    P*P  \n"
     ]
    }
   ],
   "source": [
    "BestFolds(\"HHHPHPPHPHPPHHHPH\")"
   ]
  },
  {
   "cell_type": "markdown",
   "id": "6d9d601c",
   "metadata": {},
   "source": [
    "# Plotting the runtime of the function"
   ]
  },
  {
   "cell_type": "code",
   "execution_count": 11,
   "id": "796dd7ae",
   "metadata": {},
   "outputs": [],
   "source": [
    "import timeit\n",
    "import matplotlib.pyplot as plt\n",
    "import random\n",
    "import time"
   ]
  },
  {
   "cell_type": "code",
   "execution_count": 12,
   "id": "ca1ea7be",
   "metadata": {},
   "outputs": [],
   "source": [
    "def RandomSequence(length):\n",
    "    \"\"\"The function will return a random sequence string of \"H\" and \"P\".\n",
    "       :length: lenght of the desired sequence.\n",
    "       :return: random string.\n",
    "    \"\"\"\n",
    "    sequence_list = random.choices([\"H\",\"P\"], k = length)\n",
    "    sequence_str = \"\".join(sequence_list)\n",
    "    return sequence_str"
   ]
  },
  {
   "cell_type": "code",
   "execution_count": 13,
   "id": "e9daa473",
   "metadata": {},
   "outputs": [],
   "source": [
    "def plotruntime(f,maxlength, trials, figsize = [5,5]):\n",
    "    \"\"\"\n",
    "    The function plots de runtime for the folding function.\n",
    "    :f: function used in the statement of the timeit function.\n",
    "    :maxlenght: maximum length sequence desired for the plot.\n",
    "    :trials: number of different sequence of length n assessed. The value will be averaged.\n",
    "    :figsize: desired plot size.\n",
    "    \"\"\"\n",
    "    \n",
    "    times=[]\n",
    "    seq_length=[]\n",
    "    for i in range(4,maxlength+1): # the plot start from 4 residues, minimum needed for a folding.\n",
    "        \n",
    "        temp_list = []\n",
    "        \n",
    "        for j in range(trials):\n",
    "            \n",
    "            rd_seq = RandomSequence(i) # Generate each time a random sequence of length i for assessing the runtime.\n",
    "            time = timeit.timeit(stmt=lambda:f(rd_seq), number=4)/4\n",
    "            temp_list.append(time)\n",
    "        \n",
    "        temp_time = sum(temp_list)/trials # Average time for a given sequence length.\n",
    "        times.append(temp_time) # Add the mean times to the times list.\n",
    "        seq_length.append(i)\n",
    "        print(\"Mean time for:\",i, \"residues\",temp_time, \"seconds\")\n",
    "\n",
    "    #Plot construction\n",
    "\n",
    "    fig, ax = plt.subplots(figsize=figsize)\n",
    "    ax.plot(seq_length,times, 'g')\n",
    "    ax.set_xlabel(\"Sequence length\")\n",
    "    ax.set_ylabel(\"Runtime [s]\")"
   ]
  },
  {
   "cell_type": "code",
   "execution_count": 14,
   "id": "54790a90",
   "metadata": {
    "scrolled": true
   },
   "outputs": [
    {
     "name": "stdout",
     "output_type": "stream",
     "text": [
      "Mean time for: 4 residues 5.050000000006438e-05 seconds\n",
      "Mean time for: 5 residues 0.0001051499999999983 seconds\n",
      "Mean time for: 6 residues 0.0005844999999999878 seconds\n",
      "Mean time for: 7 residues 0.002244849999999965 seconds\n",
      "Mean time for: 8 residues 0.011273074999999966 seconds\n",
      "Mean time for: 9 residues 0.01641680000000001 seconds\n",
      "Mean time for: 10 residues 0.04110114999999992 seconds\n",
      "Mean time for: 11 residues 0.045199875 seconds\n",
      "Mean time for: 12 residues 0.18687969999999998 seconds\n",
      "Mean time for: 13 residues 0.763837925 seconds\n",
      "Mean time for: 14 residues 2.9640931499999996 seconds\n",
      "Mean time for: 15 residues 17.608160325 seconds\n"
     ]
    },
    {
     "data": {
      "image/png": "[encoded data removed]",
      "text/plain": [
       "<Figure size 360x360 with 1 Axes>"
      ]
     },
     "metadata": {
      "needs_background": "light"
     },
     "output_type": "display_data"
    }
   ],
   "source": [
    "plotruntime(Folding,15,1)"
   ]
  },
  {
   "cell_type": "markdown",
   "id": "c0008138",
   "metadata": {},
   "source": [
    "<div class=\"alert alert-block alert-warning\">\n",
    "    <b> Note:</b> Exceeding 15 residues the algorithm takes too much time!\n",
    "</div>"
   ]
  },
  {
   "cell_type": "markdown",
   "id": "5833856a",
   "metadata": {},
   "source": [
    "# Branch and Bound algorithm"
   ]
  },
  {
   "cell_type": "markdown",
   "id": "34807bed",
   "metadata": {},
   "source": [
    "One possible way to reduce the number of generated pathways is to suppress the one that are symmetrical either vertically, horizontally or by rotation.\n",
    "<p>For a {x,y}:</p>\n",
    "\n",
    "-  if <b>horizontal</b> symmetry {x,-y}.\n",
    "-  if <b>vertical</b> symmetry {-x,y}.\n",
    "-  if <b>origin </b> symmetry {-x,-y}.\n"
   ]
  }
 ],
 "metadata": {
  "kernelspec": {
   "display_name": "Python 3",
   "language": "python",
   "name": "python3"
  },
  "language_info": {
   "codemirror_mode": {
    "name": "ipython",
    "version": 3
   },
   "file_extension": ".py",
   "mimetype": "text/x-python",
   "name": "python",
   "nbconvert_exporter": "python",
   "pygments_lexer": "ipython3",
   "version": "3.8.8"
  }
 },
 "nbformat": 4,
 "nbformat_minor": 5
}
